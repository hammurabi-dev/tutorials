{
 "cells": [
  {
   "cell_type": "markdown",
   "metadata": {},
   "source": [
    "## hammurabiX tutorial 01\n",
    "\n",
    "### hammurabiX with given field models\n",
    "\n",
    "This tutorial describes the basic usage of the python wrapper which depends on an XML parameter file. "
   ]
  },
  {
   "cell_type": "code",
   "execution_count": 1,
   "metadata": {},
   "outputs": [],
   "source": [
    "#NBVAL_CHECK_OUTPUT\n",
    "\n",
    "import matplotlib\n",
    "import numpy as np\n",
    "import healpy as hp\n",
    "import os\n",
    "import sys\n",
    "import hampyx as hpx\n",
    "import warnings\n",
    "warnings.filterwarnings('ignore')\n",
    "%matplotlib inline"
   ]
  },
  {
   "cell_type": "markdown",
   "metadata": {},
   "source": [
    "### hampyx, the hammurabiX python wrapper\n",
    "\n",
    "The Hampyx init function:\n",
    "\n",
    "```\n",
    "def __init__(self,\n",
    "             xml_path=None,\n",
    "             exe_path=None)\n",
    "```\n",
    "\n",
    "The path to the executable `exe_path` (upon the default input `None`) is searched automatically through the system environment (by taking the first executable target with key word `hamx` registered in `PATH`), while the path to the XML parameter file `xml_path` by default is searched automatically through the current working directory and the first match with `*.xml` will be taken.\n",
    "\n",
    "Users can store different sets of `hammuarbiX` parameters in different `XML` files.\n",
    "\n",
    "working directory is set as the same directory as this file, it relies on subprocess to fork `C++` routine and passing data through disk, and by doing so, it is not fast.\n",
    "\n",
    "Notice that `hammurabiX` uses `XML` input parameter file, which may look like:\n",
    "\n",
    "```\n",
    "<root>\n",
    "    ...\n",
    "    <key1 tag1='content1'>\n",
    "        ...\n",
    "        <key2 tag21='content21' tag22='content22'/>\n",
    "        ...\n",
    "    </key1>\n",
    "    ...\n",
    "</root>\n",
    "```\n",
    "We highly recommend users to read the template_params.xml first, where sufficient captions have been provided.\n",
    "\n",
    "methods/functions:\n",
    "\n",
    "- Import class\n",
    "\n",
    "```\n",
    "In []: import hampyx as hpx\n",
    "```\n",
    "\n",
    "- Initialize instance/object\n",
    "\n",
    "```\n",
    "In []: object = hpx.Hampyx (exe_path, xml_path)\n",
    "```\n",
    "\n",
    "- Modify parameter value from base xml file to temp `XML` file\n",
    "\n",
    "```\n",
    "In []: object.mod_par (keychain=['key1','key2',...], attrib={'tag':'content'})\n",
    "```\n",
    "\n",
    "- Add new parameter with or without attributes.\n",
    "\n",
    "```\n",
    "In []: object.add_par (keychain=['key1','key2',...], subkey='keyfinal', attrib={'tag':'content'})\n",
    "```\n",
    "\n",
    "The new parameter subkey, will be added at the path defined by keychain.\n",
    "\n",
    "- Delete parameter\n",
    "\n",
    "```\n",
    "In []: object.del_par (keychain=['key1','key2',...],opt='')\n",
    "```\n",
    "\n",
    "If additional argument opt='all', then all matching parameters will be deleted.\n",
    "\n",
    "The strings 'key1', 'key2', etc represent the path to the desired parameter, going through the `XML` file.\n",
    "\n",
    "The \"tag\" is the label for the parameter: eg. \"Value\" or \"cue\" or \"type\".\n",
    "\n",
    "The \"content\" is the content under the tag: eg. the string for the tag \"filename\"\n",
    "\n",
    "- Look through the parameter tree in python\n",
    "\n",
    "```\n",
    "In []: object.print_par(keychain=['key1','key2',...])\n",
    "```\n",
    "\n",
    "This will return the current value of the parameter in the `XML` associated with the path \"key1/key2/.../keyfinal/\".\n",
    "\n",
    "- Run the executable\n",
    "\n",
    "```\n",
    "In []: object(verbose=True/False)\n",
    "```\n",
    "\n",
    "If additional verbose=True (by default is False) hampyx_run.log and hampyx_err.log will be dumped to disk\n",
    "notice that dumping logs is not thread safe, use quiet mode in threading.\n",
    "\n",
    "After this main routine, object.sim_map will be filled with simulation outputs from hammurabiX\n",
    "the structure of object.sim_map contains arrays under entries:\n",
    "\n",
    "(we give up nested dict structure for the convenience of Bayesian analysis)\n",
    "\n",
    "```\n",
    "object.sim_map[('sync',str(freq),str(Nside),'I')] # synchrotron intensity map at 'frequency' \n",
    "object.sim_map[('sync',str(freq),str(Nside),'Q')] # synchrotron Q map at 'frequency' \n",
    "object.sim_map[('sync',str(freq),str(Nside),'U')] # synchrotron U map at 'frequency'\n",
    "object.sim_map[('fd','nan',str(Nside),'nan')] # Faraday depth map\n",
    "object.sim_map[('dm','nan',str(Nside),'nan')] # dispersion measure map\n",
    "```\n",
    "\n",
    "#### In the following we will present how to use above functions\n",
    "\n",
    "#### initialize"
   ]
  },
  {
   "cell_type": "code",
   "execution_count": 2,
   "metadata": {},
   "outputs": [
    {
     "name": "stdout",
     "output_type": "stream",
     "text": [
      "observable {}\n",
      "|-->  dm {'cue': '1', 'filename': 'dm.bin', 'nside': '8'}\n",
      "|-->  faraday {'cue': '1', 'filename': 'fd.bin', 'nside': '64'}\n",
      "|-->  sync {'cue': '1', 'freq': '30', 'filename': 'sync_30.bin', 'nside': '16'}\n",
      "|-->  sync {'cue': '1', 'freq': '1.4', 'filename': 'sync_1.4.bin', 'nside': '32'}\n"
     ]
    }
   ],
   "source": [
    "#NBVAL_CHECK_OUTPUT\n",
    "\n",
    "xmlpath = '../templates/params_template.xml'\n",
    "sim = hpx.Hampyx(xml_path=xmlpath)\n",
    "\n",
    "# print root->observable\n",
    "sim.print_par(['observable'])"
   ]
  },
  {
   "cell_type": "markdown",
   "metadata": {},
   "source": [
    "- once the `XML` parameter file is read in, the `XML` tree is deep copied and so the following modifications does not affect the external file, unless explicit write the tree to the disk"
   ]
  },
  {
   "cell_type": "markdown",
   "metadata": {},
   "source": [
    "#### use `del_par` to remove dust emission outputs"
   ]
  },
  {
   "cell_type": "code",
   "execution_count": 3,
   "metadata": {},
   "outputs": [
    {
     "name": "stdout",
     "output_type": "stream",
     "text": [
      "observable {}\n",
      "|-->  dm {'cue': '1', 'filename': 'dm.bin', 'nside': '8'}\n",
      "|-->  faraday {'cue': '1', 'filename': 'fd.bin', 'nside': '64'}\n"
     ]
    }
   ],
   "source": [
    "#NBVAL_CHECK_OUTPUT\n",
    "\n",
    "sim.del_par(['observable','sync'],'all')\n",
    "sim.print_par(['observable'])"
   ]
  },
  {
   "cell_type": "markdown",
   "metadata": {},
   "source": [
    "#### use `mod_par` to change synchrotron emission output resolution"
   ]
  },
  {
   "cell_type": "code",
   "execution_count": 4,
   "metadata": {},
   "outputs": [
    {
     "name": "stdout",
     "output_type": "stream",
     "text": [
      "observable {}\n",
      "|-->  dm {'cue': '1', 'filename': 'dm.bin', 'nside': '8'}\n",
      "|-->  faraday {'cue': '1', 'filename': 'fd.bin', 'nside': '2'}\n"
     ]
    }
   ],
   "source": [
    "#NBVAL_CHECK_OUTPUT\n",
    "\n",
    "sim.mod_par(['observable','faraday'],{'nside':'2'})\n",
    "sim.print_par(['observable'])"
   ]
  },
  {
   "cell_type": "markdown",
   "metadata": {},
   "source": [
    "#### use `add_par` to add another synchrotron emission output"
   ]
  },
  {
   "cell_type": "code",
   "execution_count": 5,
   "metadata": {},
   "outputs": [
    {
     "name": "stdout",
     "output_type": "stream",
     "text": [
      "observable {}\n",
      "|-->  dm {'cue': '1', 'filename': 'dm.bin', 'nside': '8'}\n",
      "|-->  faraday {'cue': '1', 'filename': 'fd.bin', 'nside': '2'}\n",
      "|-->  sync {'cue': '1', 'freq': '10', 'filename': 'sync_10.bin', 'nside': '8'}\n"
     ]
    }
   ],
   "source": [
    "#NBVAL_CHECK_OUTPUT\n",
    "\n",
    "sim.add_par(['observable'],'sync',{'cue':'1','freq':'10','filename':'sync_10.bin','nside':'8'})\n",
    "sim.print_par(['observable'])"
   ]
  },
  {
   "cell_type": "markdown",
   "metadata": {},
   "source": [
    "- upon adding an existed key with existed attributes, a ValueError will be raised"
   ]
  },
  {
   "cell_type": "markdown",
   "metadata": {},
   "source": [
    "#### check field i/o settings"
   ]
  },
  {
   "cell_type": "code",
   "execution_count": 6,
   "metadata": {},
   "outputs": [
    {
     "name": "stdout",
     "output_type": "stream",
     "text": [
      "fieldio {}\n",
      "|-->  breg {'read': '0', 'write': '0', 'filename': 'breg.bin'}\n",
      "|-->  brnd {'read': '0', 'write': '0', 'filename': 'brnd.bin'}\n",
      "|-->  tereg {'read': '0', 'write': '0', 'filename': 'tereg.bin'}\n",
      "|-->  ternd {'read': '0', 'write': '0', 'filename': 'ternd.bin'}\n",
      "|-->  cre {'read': '0', 'write': '0', 'filename': 'cre.bin'}\n"
     ]
    }
   ],
   "source": [
    "#NBVAL_CHECK_OUTPUT\n",
    "\n",
    "sim.print_par(['fieldio'])"
   ]
  },
  {
   "cell_type": "markdown",
   "metadata": {},
   "source": [
    "#### check grid settings"
   ]
  },
  {
   "cell_type": "code",
   "execution_count": 7,
   "metadata": {},
   "outputs": [
    {
     "name": "stdout",
     "output_type": "stream",
     "text": [
      "grid {}\n",
      "|-->  observer {}\n",
      "|-->  box_breg {}\n",
      "|-->  box_brnd {}\n",
      "|-->  box_tereg {}\n",
      "|-->  box_ternd {}\n",
      "|-->  box_cre {}\n",
      "|-->  shell {}\n"
     ]
    }
   ],
   "source": [
    "#NBVAL_CHECK_OUTPUT\n",
    "\n",
    "sim.print_par(['grid'])"
   ]
  },
  {
   "cell_type": "markdown",
   "metadata": {},
   "source": [
    "- grid->observer hosts the galactic-centric location of the observer (in kpc unit)"
   ]
  },
  {
   "cell_type": "code",
   "execution_count": 8,
   "metadata": {},
   "outputs": [
    {
     "name": "stdout",
     "output_type": "stream",
     "text": [
      "observer {}\n",
      "|-->  x {'value': '-8.3'}\n",
      "|-->  y {'value': '0'}\n",
      "|-->  z {'value': '0.006'}\n"
     ]
    }
   ],
   "source": [
    "#NBVAL_CHECK_OUTPUT\n",
    "\n",
    "sim.print_par(['grid','observer'])"
   ]
  },
  {
   "cell_type": "markdown",
   "metadata": {},
   "source": [
    "- shell hosts the LoS integral settings"
   ]
  },
  {
   "cell_type": "code",
   "execution_count": 9,
   "metadata": {},
   "outputs": [
    {
     "name": "stdout",
     "output_type": "stream",
     "text": [
      "shell {}\n",
      "|-->  layer {'type': 'auto'}\n",
      "|-->  oc_r_min {'value': '0.0'}\n",
      "|-->  oc_r_max {'value': '30.0'}\n",
      "|-->  gc_r_min {'value': '0.0'}\n",
      "|-->  gc_r_max {'value': '20.0'}\n",
      "|-->  gc_z_min {'value': '-10.0'}\n",
      "|-->  gc_z_max {'value': '10.0'}\n",
      "|-->  oc_r_res {'value': '0.01'}\n",
      "\n",
      "layer {'type': 'auto'}\n",
      "|-->  auto {}\n",
      "|-->  manual {}\n",
      "\n",
      "auto {}\n",
      "|-->  shell_num {'value': '1'}\n",
      "|-->  nside_sim {'value': '32'}\n",
      "\n",
      "manual {}\n",
      "|-->  cut {'value': '0.5'}\n",
      "|-->  nside_sim {'value': '32'}\n",
      "|-->  nside_sim {'value': '64'}\n"
     ]
    }
   ],
   "source": [
    "#NBVAL_CHECK_OUTPUT\n",
    "\n",
    "sim.print_par(['grid','shell'])\n",
    "print()\n",
    "sim.print_par(['grid','shell','layer'])\n",
    "print()\n",
    "sim.print_par(['grid','shell','layer','auto'])\n",
    "print()\n",
    "sim.print_par(['grid','shell','layer','manual'])"
   ]
  },
  {
   "cell_type": "markdown",
   "metadata": {},
   "source": [
    "#### check magnetic field settings"
   ]
  },
  {
   "cell_type": "code",
   "execution_count": 10,
   "metadata": {},
   "outputs": [
    {
     "name": "stdout",
     "output_type": "stream",
     "text": [
      "magneticfield {}\n",
      "|-->  regular {'cue': '1', 'type': 'unif'}\n",
      "|-->  random {'cue': '0', 'type': 'local', 'seed': '0'}\n"
     ]
    }
   ],
   "source": [
    "#NBVAL_CHECK_OUTPUT\n",
    "\n",
    "sim.print_par(['magneticfield'])"
   ]
  },
  {
   "cell_type": "markdown",
   "metadata": {},
   "source": [
    "#### check thermal electron field settings"
   ]
  },
  {
   "cell_type": "code",
   "execution_count": 11,
   "metadata": {},
   "outputs": [
    {
     "name": "stdout",
     "output_type": "stream",
     "text": [
      "thermalelectron {}\n",
      "|-->  regular {'cue': '1', 'type': 'unif'}\n",
      "|-->  random {'cue': '0', 'type': 'global', 'seed': '0'}\n"
     ]
    }
   ],
   "source": [
    "#NBVAL_CHECK_OUTPUT\n",
    "\n",
    "sim.print_par(['thermalelectron'])"
   ]
  },
  {
   "cell_type": "markdown",
   "metadata": {},
   "source": [
    "#### check cosmic ray electron field settings"
   ]
  },
  {
   "cell_type": "code",
   "execution_count": 12,
   "metadata": {},
   "outputs": [
    {
     "name": "stdout",
     "output_type": "stream",
     "text": [
      "cre {'cue': '1', 'type': 'unif'}\n",
      "|-->  analytic {}\n",
      "|-->  unif {}\n"
     ]
    }
   ],
   "source": [
    "#NBVAL_CHECK_OUTPUT\n",
    "\n",
    "sim.print_par(['cre'])"
   ]
  },
  {
   "cell_type": "markdown",
   "metadata": {},
   "source": [
    "#### users are recommended to check all parameters to make sure they are set as expected, then we can start to run the simulation routine"
   ]
  },
  {
   "cell_type": "markdown",
   "metadata": {},
   "source": [
    "- the optional input argument verbose=True/False determines whether the log of hammurabiX execution will be printed"
   ]
  },
  {
   "cell_type": "code",
   "execution_count": 13,
   "metadata": {},
   "outputs": [],
   "source": [
    "#NBVAL_CHECK_OUTPUT\n",
    "\n",
    "sim()"
   ]
  },
  {
   "cell_type": "markdown",
   "metadata": {},
   "source": [
    "- get the output entries"
   ]
  },
  {
   "cell_type": "code",
   "execution_count": 14,
   "metadata": {},
   "outputs": [
    {
     "name": "stdout",
     "output_type": "stream",
     "text": [
      "('dm', 'nan', '8', 'nan')\n",
      "('fd', 'nan', '2', 'nan')\n",
      "('sync', '10', '8', 'I')\n",
      "('sync', '10', '8', 'Q')\n",
      "('sync', '10', '8', 'U')\n"
     ]
    }
   ],
   "source": [
    "#NBVAL_CHECK_OUTPUT\n",
    "\n",
    "for key in sim.sim_map.keys():\n",
    "    print (key)"
   ]
  },
  {
   "cell_type": "markdown",
   "metadata": {},
   "source": [
    "- illustrate simulated map behind one entry"
   ]
  },
  {
   "cell_type": "code",
   "execution_count": 15,
   "metadata": {},
   "outputs": [
    {
     "data": {
      "image/png": "[encoded data removed]",
      "text/plain": [
       "<Figure size 612x388.8 with 2 Axes>"
      ]
     },
     "metadata": {
      "needs_background": "light"
     },
     "output_type": "display_data"
    }
   ],
   "source": [
    "#NBVAL_CHECK_OUTPUT\n",
    "\n",
    "out_sync_Q = sim.sim_map[('sync', '10', '8', 'Q')]\n",
    "hp.mollview(out_sync_Q,norm='hist')"
   ]
  },
  {
   "cell_type": "markdown",
   "metadata": {},
   "source": [
    "### play with mask map\n",
    "\n",
    "for simulating partial-sky maps and saving computing time, hammurabi X can read in a single mask map provided in HEALPix format, this external mask map once read in, will be applied to all simulation outputs.\n",
    "\n",
    "Notice that, the mask map resolution is read in as the pivot masking resolution, which means it DOES NOT defines the output resolution, so the output results will ONLY ensure that the un-masked area is included, sometimes, the masked area near the masking boudary will also be calculated due to the resolution difference."
   ]
  },
  {
   "cell_type": "code",
   "execution_count": 16,
   "metadata": {},
   "outputs": [
    {
     "name": "stdout",
     "output_type": "stream",
     "text": [
      "faction:  0.32902018229166663\n"
     ]
    },
    {
     "data": {
      "image/png": "[encoded data removed]",
      "text/plain": [
       "<Figure size 612x388.8 with 2 Axes>"
      ]
     },
     "metadata": {
      "needs_background": "light"
     },
     "output_type": "display_data"
    }
   ],
   "source": [
    "#NBVAL_CHECK_OUTPUT\n",
    "\n",
    "# mask resolution\n",
    "mask_nside = 32\n",
    "\n",
    "def mask_map_prod(_nside,_clon,_clat,_sep,_external_mask=None):\n",
    "    _c = np.pi/180\n",
    "    def hav(_theta):\n",
    "        return 0.5-0.5*np.cos(_theta)\n",
    "    tmp = np.ones(hp.nside2npix(_nside),dtype=np.float64)\n",
    "    count = 0\n",
    "    for _ipix in range(len(tmp)):\n",
    "        lon,lat = hp.pix2ang(_nside,_ipix,lonlat=True)\n",
    "        # iso-angle separation\n",
    "        if((hav(np.fabs(_clat-lat)*_c)+np.cos(_clat*_c)*np.cos(lat*_c)*hav(np.fabs(_clon-lon)*_c))>hav(_sep*_c)):\n",
    "            count = count + 1\n",
    "            tmp[_ipix] = False\n",
    "    print ('faction: ', (1 - count/(12*_nside*_nside)))\n",
    "    return tmp\n",
    "\n",
    "# prepare mask\n",
    "cust_tmask = mask_map_prod(mask_nside, 30, 20, 70)\n",
    "hp.orthview(cust_tmask, rot=[0,90], min=0, max=1, title='mask')\n",
    "if os.path.isfile('mask_tutorial_01.bin'):\n",
    "    os.remove('mask_tutorial_01.bin')\n",
    "cust_tmask.tofile('mask_tutorial_01.bin')"
   ]
  },
  {
   "cell_type": "markdown",
   "metadata": {},
   "source": [
    "**modify the mask entry**"
   ]
  },
  {
   "cell_type": "code",
   "execution_count": 17,
   "metadata": {},
   "outputs": [
    {
     "name": "stdout",
     "output_type": "stream",
     "text": [
      "mask {'cue': '1', 'filename': 'mask_tutorial_01.bin', 'nside': '32'}\n"
     ]
    }
   ],
   "source": [
    "#NBVAL_CHECK_OUTPUT\n",
    "\n",
    "sim.mod_par(['mask'],{'cue': '1', 'filename': 'mask_tutorial_01.bin'})\n",
    "sim.print_par(['mask'])"
   ]
  },
  {
   "cell_type": "markdown",
   "metadata": {},
   "source": [
    "**rerun the simulation**"
   ]
  },
  {
   "cell_type": "code",
   "execution_count": 18,
   "metadata": {},
   "outputs": [],
   "source": [
    "#NBVAL_CHECK_OUTPUT\n",
    "\n",
    "sim()"
   ]
  },
  {
   "cell_type": "markdown",
   "metadata": {},
   "source": [
    "**the masked pixels should have value 0.0**"
   ]
  },
  {
   "cell_type": "code",
   "execution_count": 19,
   "metadata": {},
   "outputs": [
    {
     "data": {
      "image/png": "[encoded data removed]",
      "text/plain": [
       "<Figure size 612x388.8 with 2 Axes>"
      ]
     },
     "metadata": {
      "needs_background": "light"
     },
     "output_type": "display_data"
    }
   ],
   "source": [
    "#NBVAL_CHECK_OUTPUT\n",
    "\n",
    "out_sync_Q = sim.sim_map[('sync', '10', '8', 'Q')]\n",
    "absmax = np.max(out_sync_Q)\n",
    "hp.orthview(out_sync_Q, rot=[0,90], norm='hist',max=absmax,min=-absmax,cmap='coolwarm')"
   ]
  },
  {
   "cell_type": "markdown",
   "metadata": {},
   "source": [
    "clean up"
   ]
  },
  {
   "cell_type": "code",
   "execution_count": 20,
   "metadata": {},
   "outputs": [],
   "source": [
    "if os.path.isfile('mask_tutorial_01.bin'):\n",
    "    os.remove('mask_tutorial_01.bin')\n",
    "if os.path.isfile('err.log'):\n",
    "    os.remove('err.log')\n",
    "if os.path.isfile('run.log'):\n",
    "    os.remove('run.log')"
   ]
  },
  {
   "cell_type": "markdown",
   "metadata": {},
   "source": [
    "end"
   ]
  }
 ],
 "metadata": {
  "kernelspec": {
   "display_name": "Python 3",
   "language": "python",
   "name": "python3"
  },
  "language_info": {
   "codemirror_mode": {
    "name": "ipython",
    "version": 3
   },
   "file_extension": ".py",
   "mimetype": "text/x-python",
   "name": "python",
   "nbconvert_exporter": "python",
   "pygments_lexer": "ipython3",
   "version": "3.6.9"
  }
 },
 "nbformat": 4,
 "nbformat_minor": 2
}
